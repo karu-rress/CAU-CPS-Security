{
 "cells": [
  {
   "cell_type": "code",
   "execution_count": 1,
   "id": "initial_id",
   "metadata": {
    "ExecuteTime": {
     "end_time": "2024-03-19T08:13:01.845667Z",
     "start_time": "2024-03-19T08:13:01.824051Z"
    },
    "collapsed": true
   },
   "outputs": [
    {
     "name": "stdout",
     "output_type": "stream",
     "text": [
      "Hello, world!\n"
     ]
    }
   ],
   "source": [
    "print('Hello, world!')"
   ]
  },
  {
   "cell_type": "code",
   "execution_count": 3,
   "id": "5ab99b43cca7655c",
   "metadata": {
    "ExecuteTime": {
     "end_time": "2024-03-19T08:20:22.644652Z",
     "start_time": "2024-03-19T08:20:22.633081Z"
    },
    "collapsed": false
   },
   "outputs": [
    {
     "data": {
      "text/plain": [
       "'3.10.13 | packaged by Anaconda, Inc. | (main, Sep 11 2023, 13:15:57) [MSC v.1916 64 bit (AMD64)]'"
      ]
     },
     "execution_count": 3,
     "metadata": {},
     "output_type": "execute_result"
    }
   ],
   "source": [
    "import sys\n",
    "sys.version"
   ]
  },
  {
   "cell_type": "code",
   "execution_count": 8,
   "id": "d0878e593990f610",
   "metadata": {
    "ExecuteTime": {
     "end_time": "2024-03-19T08:17:10.238396Z",
     "start_time": "2024-03-19T08:17:10.227571Z"
    },
    "collapsed": false
   },
   "outputs": [
    {
     "name": "stdout",
     "output_type": "stream",
     "text": [
      "[2, 6, 12]\n"
     ]
    }
   ],
   "source": [
    "a = [1, 2, 3]\n",
    "b = [2, 3, 4]\n",
    "\n",
    "def times(x, y):\n",
    "    return x*y\n",
    "\n",
    "print(list(map(times, a, b)))"
   ]
  },
  {
   "cell_type": "code",
   "execution_count": 13,
   "id": "da2576d5692da22f",
   "metadata": {
    "ExecuteTime": {
     "end_time": "2024-03-19T08:17:38.540523Z",
     "start_time": "2024-03-19T08:17:38.519523Z"
    },
    "collapsed": false
   },
   "outputs": [
    {
     "name": "stdout",
     "output_type": "stream",
     "text": [
      "[3, 5, 7]\n"
     ]
    }
   ],
   "source": [
    "def add(x, y):\n",
    "    return x + y\n",
    "\n",
    "print(list(map(add, a, b)))"
   ]
  },
  {
   "cell_type": "code",
   "execution_count": 17,
   "id": "84bab7b55b2f4efa",
   "metadata": {
    "ExecuteTime": {
     "end_time": "2024-03-19T08:18:14.499316Z",
     "start_time": "2024-03-19T08:18:14.487165Z"
    },
    "collapsed": false
   },
   "outputs": [
    {
     "data": {
      "text/plain": [
       "sys.version_info(major=3, minor=10, micro=13, releaselevel='final', serial=0)"
      ]
     },
     "execution_count": 17,
     "metadata": {},
     "output_type": "execute_result"
    }
   ],
   "source": [
    "sys.version_info"
   ]
  },
  {
   "cell_type": "code",
   "execution_count": 2,
   "id": "292cafb9bba4abb3",
   "metadata": {
    "collapsed": false
   },
   "outputs": [
    {
     "data": {
      "application/vnd.jupyter.widget-view+json": {
       "model_id": "eed1ab15419240308dba40efa2b9d1d5",
       "version_major": 2,
       "version_minor": 0
      },
      "text/plain": [
       "  0%|          | 0/100 [00:00<?, ?it/s]"
      ]
     },
     "metadata": {},
     "output_type": "display_data"
    }
   ],
   "source": [
    "from tqdm import tqdm\n",
    "import time\n",
    "\n",
    "from tqdm.auto import tqdm as tqdm_auto\n",
    "\n",
    "for i in tqdm_auto(range(100)):\n",
    "    time.sleep(0.05)\n",
    "    pass"
   ]
  },
  {
   "cell_type": "code",
   "execution_count": null,
   "id": "d7ba76e1",
   "metadata": {},
   "outputs": [],
   "source": [
    "def add(x: int, y: int) -> int:\n",
    "    return x + y"
   ]
  },
  {
   "cell_type": "code",
   "execution_count": null,
   "id": "9c966c00",
   "metadata": {},
   "outputs": [],
   "source": [
    "print(list(map(add, a, b)))"
   ]
  },
  {
   "cell_type": "code",
   "execution_count": 6,
   "id": "1b0d08ef",
   "metadata": {},
   "outputs": [
    {
     "data": {
      "text/plain": [
       "12"
      ]
     },
     "execution_count": 6,
     "metadata": {},
     "output_type": "execute_result"
    }
   ],
   "source": [
    "func = lambda x, y: x + y\n",
    "func(2, 10)"
   ]
  },
  {
   "cell_type": "code",
   "execution_count": 9,
   "id": "ab65ff9e",
   "metadata": {},
   "outputs": [
    {
     "name": "stdout",
     "output_type": "stream",
     "text": [
      "[3, 5, 7]\n"
     ]
    }
   ],
   "source": [
    "print(list(map(func, a, b)))"
   ]
  },
  {
   "cell_type": "code",
   "execution_count": 11,
   "id": "22a4314c",
   "metadata": {},
   "outputs": [
    {
     "name": "stdout",
     "output_type": "stream",
     "text": [
      "[2, 6, 12]\n"
     ]
    }
   ],
   "source": [
    "print(list(map(\n",
    "  lambda x, y: x * y,\n",
    "  a, b\n",
    ")))"
   ]
  },
  {
   "cell_type": "code",
   "execution_count": 16,
   "id": "b67f52e5",
   "metadata": {},
   "outputs": [],
   "source": [
    "from dataclasses import dataclass\n",
    "\n",
    "@dataclass\n",
    "class struct:\n",
    "    a: int\n",
    "    b: int"
   ]
  },
  {
   "cell_type": "code",
   "execution_count": null,
   "id": "c40111a4",
   "metadata": {},
   "outputs": [],
   "source": []
  }
 ],
 "metadata": {
  "kernelspec": {
   "display_name": "Python 3",
   "language": "python",
   "name": "python3"
  },
  "language_info": {
   "codemirror_mode": {
    "name": "ipython",
    "version": 3
   },
   "file_extension": ".py",
   "mimetype": "text/x-python",
   "name": "python",
   "nbconvert_exporter": "python",
   "pygments_lexer": "ipython3",
   "version": "3.10.13"
  }
 },
 "nbformat": 4,
 "nbformat_minor": 5
}
